{
 "cells": [
  {
   "cell_type": "markdown",
   "id": "da2acd11",
   "metadata": {},
   "source": [
    "## Version 2\n",
    "\n",
    "### 2 Convolutions / leaky_relu / 0.2 Dropouts / 20 epochs"
   ]
  },
  {
   "cell_type": "code",
   "execution_count": 1,
   "id": "dcd27d4b",
   "metadata": {},
   "outputs": [],
   "source": [
    "import numpy as np\n",
    "import matplotlib.pyplot as plt\n",
    "import seaborn as sns\n",
    "import tensorflow as tf\n",
    "from tensorflow.keras import layers\n",
    "from tensorflow.keras.preprocessing.image import load_img\n",
    "from tensorflow.keras.utils import to_categorical, image_dataset_from_directory\n",
    "from sklearn.metrics import confusion_matrix"
   ]
  },
  {
   "cell_type": "code",
   "execution_count": 10,
   "id": "1ae2c610",
   "metadata": {},
   "outputs": [
    {
     "name": "stdout",
     "output_type": "stream",
     "text": [
      "Found 2870 files belonging to 4 classes.\n",
      "Found 394 files belonging to 4 classes.\n"
     ]
    }
   ],
   "source": [
    "train_path = 'Kaggle_MRI_Tumor/Training'\n",
    "test_path = 'Kaggle_MRI_Tumor/Testing'\n",
    "\n",
    "classes = ['glioma_tumor', 'meningioma_tumor', 'no_tumor', 'pituitary_tumor']\n",
    "\n",
    "train_dataset = image_dataset_from_directory(directory=train_path,\n",
    "                                             label_mode='categorical',\n",
    "                                             class_names=classes)\n",
    "test_dataset = image_dataset_from_directory(directory=test_path,\n",
    "                                            label_mode='categorical',\n",
    "                                            class_names=classes)"
   ]
  },
  {
   "cell_type": "code",
   "execution_count": 11,
   "id": "fcafb557",
   "metadata": {},
   "outputs": [],
   "source": [
    "model = tf.keras.models.Sequential()\n",
    "\n",
    "# Preprocessing \n",
    "model.add(layers.Resizing(height=128, width=128, interpolation='bilinear'))\n",
    "model.add(layers.Rescaling(scale=1./255))\n",
    "\n",
    "# Data Augmentation\n",
    "model.add(layers.RandomFlip(mode='horizontal_and_vertical'))\n",
    "model.add(layers.RandomRotation(factor=.2))"
   ]
  },
  {
   "cell_type": "code",
   "execution_count": 12,
   "id": "c5160f26",
   "metadata": {},
   "outputs": [],
   "source": [
    "# First Convolution\n",
    "model.add(layers.Conv2D(filters=64, kernel_size=(1,5)))\n",
    "model.add(layers.Conv2D(filters=64, kernel_size=(5,1)))\n",
    "model.add(layers.Activation('relu'))\n",
    "model.add(layers.BatchNormalization())\n",
    "model.add(layers.MaxPool2D(pool_size=(2,2)))\n",
    "model.add(layers.Dropout(.2))"
   ]
  },
  {
   "cell_type": "code",
   "execution_count": 13,
   "id": "eddf9326",
   "metadata": {},
   "outputs": [],
   "source": [
    "# Second Convolution\n",
    "model.add(layers.Conv2D(filters=64, kernel_size=(1,3)))\n",
    "model.add(layers.Conv2D(filters=64, kernel_size=(3,1)))\n",
    "model.add(layers.Activation('relu'))\n",
    "model.add(layers.BatchNormalization())\n",
    "model.add(layers.MaxPool2D(pool_size=(2,2)))\n",
    "model.add(layers.Dropout(.2))"
   ]
  },
  {
   "cell_type": "code",
   "execution_count": 14,
   "id": "6d189fbf",
   "metadata": {},
   "outputs": [],
   "source": [
    "# Feed forward\n",
    "model.add(layers.Flatten())\n",
    "model.add(layers.Dense(512))\n",
    "model.add(layers.Activation('relu'))\n",
    "model.add(layers.Dropout(.2))\n",
    "model.add(layers.Dense(512))\n",
    "model.add(layers.Activation('relu'))\n",
    "model.add(layers.Dropout(.2))\n",
    "model.add(layers.Dense(4))\n",
    "model.add(layers.Activation('softmax'))"
   ]
  },
  {
   "cell_type": "code",
   "execution_count": null,
   "id": "8f6f208e",
   "metadata": {},
   "outputs": [],
   "source": [
    "optimizer = tf.keras.optimizers.RMSprop(learning_rate=0.001, decay=1e-6)\n",
    "model.compile(optimizer=optimizer, loss='categorical_crossentropy', metrics=['accuracy'])\n",
    "\n",
    "history = model.fit(train_dataset, epochs=20, validation_data=test_dataset)"
   ]
  },
  {
   "cell_type": "code",
   "execution_count": null,
   "id": "b65a256e",
   "metadata": {},
   "outputs": [],
   "source": [
    "model.evaluate(test_dataset)"
   ]
  },
  {
   "cell_type": "code",
   "execution_count": null,
   "id": "d4834b8a",
   "metadata": {},
   "outputs": [],
   "source": [
    "model.summary()"
   ]
  }
 ],
 "metadata": {
  "kernelspec": {
   "display_name": "Python 3 (ipykernel)",
   "language": "python",
   "name": "python3"
  },
  "language_info": {
   "codemirror_mode": {
    "name": "ipython",
    "version": 3
   },
   "file_extension": ".py",
   "mimetype": "text/x-python",
   "name": "python",
   "nbconvert_exporter": "python",
   "pygments_lexer": "ipython3",
   "version": "3.9.5"
  }
 },
 "nbformat": 4,
 "nbformat_minor": 5
}
