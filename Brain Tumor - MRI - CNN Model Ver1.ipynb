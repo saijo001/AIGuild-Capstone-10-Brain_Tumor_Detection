{
 "cells": [
  {
   "cell_type": "markdown",
   "id": "2cf6d07b",
   "metadata": {},
   "source": [
    "## Version 1\n",
    "\n",
    "### 3 Convolutions / leaky_relu / 0.2 Dropouts / 20 epochs"
   ]
  },
  {
   "cell_type": "code",
   "execution_count": 2,
   "id": "6b01a313",
   "metadata": {},
   "outputs": [],
   "source": [
    "import numpy as np\n",
    "import matplotlib.pyplot as plt\n",
    "import seaborn as sns\n",
    "\n",
    "import tensorflow as tf\n",
    "from tensorflow.keras import layers\n",
    "from tensorflow.keras.preprocessing.image import load_img\n",
    "from tensorflow.keras.utils import to_categorical, image_dataset_from_directory\n",
    "from sklearn.metrics import confusion_matrix"
   ]
  },
  {
   "cell_type": "code",
   "execution_count": 3,
   "id": "8bbbfe52",
   "metadata": {},
   "outputs": [
    {
     "name": "stdout",
     "output_type": "stream",
     "text": [
      "Found 2870 files belonging to 4 classes.\n",
      "Found 394 files belonging to 4 classes.\n"
     ]
    }
   ],
   "source": [
    "train_path = 'Kaggle_MRI_Tumor/Training'\n",
    "test_path = 'Kaggle_MRI_Tumor/Testing'\n",
    "\n",
    "classes = ['glioma_tumor', 'meningioma_tumor', 'no_tumor', 'pituitary_tumor']\n",
    "\n",
    "train_dataset = image_dataset_from_directory(directory=train_path,\n",
    "                                             label_mode='categorical',\n",
    "                                             class_names=classes)\n",
    "test_dataset = image_dataset_from_directory(directory=test_path,\n",
    "                                            label_mode='categorical',\n",
    "                                            class_names=classes)"
   ]
  },
  {
   "cell_type": "code",
   "execution_count": 4,
   "id": "4f7b5132",
   "metadata": {},
   "outputs": [
    {
     "name": "stdout",
     "output_type": "stream",
     "text": [
      "<BatchDataset element_spec=(TensorSpec(shape=(None, 256, 256, 3), dtype=tf.float32, name=None), TensorSpec(shape=(None, 4), dtype=tf.float32, name=None))>\n"
     ]
    }
   ],
   "source": [
    "print(test_dataset)"
   ]
  },
  {
   "cell_type": "code",
   "execution_count": 5,
   "id": "32f8234b",
   "metadata": {},
   "outputs": [],
   "source": [
    "model = tf.keras.models.Sequential()\n",
    "\n",
    "# Preprocessing \n",
    "model.add(layers.Resizing(height=128, width=128, interpolation='bilinear'))\n",
    "model.add(layers.Rescaling(scale=1./255))"
   ]
  },
  {
   "cell_type": "code",
   "execution_count": 6,
   "id": "b75800f1",
   "metadata": {},
   "outputs": [],
   "source": [
    "# Data Augmentation\n",
    "model.add(layers.RandomFlip(mode='horizontal_and_vertical'))\n",
    "model.add(layers.RandomRotation(factor=.2))"
   ]
  },
  {
   "cell_type": "code",
   "execution_count": 7,
   "id": "751045d7",
   "metadata": {},
   "outputs": [],
   "source": [
    "# First Convolution\n",
    "model.add(layers.Conv2D(filters=64, kernel_size=(1,5)))\n",
    "model.add(layers.Conv2D(filters=64, kernel_size=(5,1)))\n",
    "model.add(layers.Activation('leaky_relu'))\n",
    "model.add(layers.BatchNormalization())\n",
    "model.add(layers.MaxPool2D(pool_size=(2,2)))\n",
    "model.add(layers.Dropout(.2))\n"
   ]
  },
  {
   "cell_type": "code",
   "execution_count": 8,
   "id": "b9f2f71e",
   "metadata": {},
   "outputs": [],
   "source": [
    "# Second Convolution\n",
    "model.add(layers.Conv2D(filters=64, kernel_size=(1,3)))\n",
    "model.add(layers.Conv2D(filters=64, kernel_size=(3,1)))\n",
    "model.add(layers.Activation('leaky_relu'))\n",
    "model.add(layers.BatchNormalization())\n",
    "model.add(layers.MaxPool2D(pool_size=(2,2)))\n",
    "model.add(layers.Dropout(.2))"
   ]
  },
  {
   "cell_type": "code",
   "execution_count": 9,
   "id": "2968a7c3",
   "metadata": {},
   "outputs": [],
   "source": [
    "# Third Convolution\n",
    "model.add(layers.Conv2D(filters=64, kernel_size=(1,3)))\n",
    "model.add(layers.Conv2D(filters=64, kernel_size=(3,1)))\n",
    "model.add(layers.Activation('leaky_relu'))\n",
    "model.add(layers.BatchNormalization())\n",
    "model.add(layers.MaxPool2D(pool_size=(2,2)))\n",
    "model.add(layers.Dropout(.2))"
   ]
  },
  {
   "cell_type": "code",
   "execution_count": 10,
   "id": "73d723aa",
   "metadata": {},
   "outputs": [],
   "source": [
    "# Feed forward\n",
    "model.add(layers.Flatten())\n",
    "model.add(layers.Dense(512))\n",
    "model.add(layers.Activation('leaky_relu'))\n",
    "model.add(layers.Dropout(.2))\n",
    "model.add(layers.Dense(512))\n",
    "model.add(layers.Activation('leaky_relu'))\n",
    "model.add(layers.Dropout(.2))\n",
    "model.add(layers.Dense(4))\n",
    "model.add(layers.Activation('softmax'))"
   ]
  },
  {
   "cell_type": "code",
   "execution_count": 11,
   "id": "e74458e5",
   "metadata": {},
   "outputs": [],
   "source": [
    "optimizer = tf.keras.optimizers.RMSprop(learning_rate=0.001, decay=1e-6)\n",
    "model.compile(optimizer=optimizer, loss='categorical_crossentropy', metrics=['accuracy'])"
   ]
  },
  {
   "cell_type": "code",
   "execution_count": 12,
   "id": "73c4c0b1",
   "metadata": {},
   "outputs": [
    {
     "name": "stdout",
     "output_type": "stream",
     "text": [
      "Epoch 1/20\n",
      "WARNING:tensorflow:Using a while_loop for converting RngReadAndSkip cause there is no registered converter for this op.\n",
      "WARNING:tensorflow:Using a while_loop for converting Bitcast cause there is no registered converter for this op.\n",
      "WARNING:tensorflow:Using a while_loop for converting Bitcast cause there is no registered converter for this op.\n",
      "WARNING:tensorflow:Using a while_loop for converting StatelessRandomUniformV2 cause there is no registered converter for this op.\n",
      "WARNING:tensorflow:Using a while_loop for converting ImageProjectiveTransformV3 cause there is no registered converter for this op.\n",
      "WARNING:tensorflow:Using a while_loop for converting RngReadAndSkip cause there is no registered converter for this op.\n",
      "WARNING:tensorflow:Using a while_loop for converting Bitcast cause there is no registered converter for this op.\n",
      "WARNING:tensorflow:Using a while_loop for converting Bitcast cause there is no registered converter for this op.\n",
      "WARNING:tensorflow:Using a while_loop for converting StatelessRandomUniformV2 cause there is no registered converter for this op.\n",
      "WARNING:tensorflow:Using a while_loop for converting ImageProjectiveTransformV3 cause there is no registered converter for this op.\n",
      "WARNING:tensorflow:Using a while_loop for converting RngReadAndSkip cause there is no registered converter for this op.\n",
      "WARNING:tensorflow:Using a while_loop for converting Bitcast cause there is no registered converter for this op.\n",
      "WARNING:tensorflow:Using a while_loop for converting Bitcast cause there is no registered converter for this op.\n",
      "WARNING:tensorflow:Using a while_loop for converting StatelessRandomUniformV2 cause there is no registered converter for this op.\n",
      "WARNING:tensorflow:Using a while_loop for converting ImageProjectiveTransformV3 cause there is no registered converter for this op.\n",
      "90/90 [==============================] - 223s 2s/step - loss: 7.8775 - accuracy: 0.4638 - val_loss: 8.5427 - val_accuracy: 0.1878\n",
      "Epoch 2/20\n",
      "90/90 [==============================] - 310s 3s/step - loss: 2.5546 - accuracy: 0.4847 - val_loss: 3.4758 - val_accuracy: 0.2690\n",
      "Epoch 3/20\n",
      "90/90 [==============================] - 241s 3s/step - loss: 1.8023 - accuracy: 0.5328 - val_loss: 7.1722 - val_accuracy: 0.2386\n",
      "Epoch 4/20\n",
      "90/90 [==============================] - 266s 3s/step - loss: 1.4897 - accuracy: 0.5596 - val_loss: 3.3525 - val_accuracy: 0.2893\n",
      "Epoch 5/20\n",
      "90/90 [==============================] - 257s 3s/step - loss: 1.1708 - accuracy: 0.6164 - val_loss: 3.1312 - val_accuracy: 0.3782\n",
      "Epoch 6/20\n",
      "90/90 [==============================] - 265s 3s/step - loss: 1.0605 - accuracy: 0.6366 - val_loss: 5.1019 - val_accuracy: 0.2944\n",
      "Epoch 7/20\n",
      "90/90 [==============================] - 298s 3s/step - loss: 0.9096 - accuracy: 0.6854 - val_loss: 2.4976 - val_accuracy: 0.3274\n",
      "Epoch 8/20\n",
      "90/90 [==============================] - 291s 3s/step - loss: 0.8225 - accuracy: 0.6986 - val_loss: 3.9892 - val_accuracy: 0.3579\n",
      "Epoch 9/20\n",
      "90/90 [==============================] - 235s 3s/step - loss: 0.7492 - accuracy: 0.7279 - val_loss: 5.1994 - val_accuracy: 0.2284\n",
      "Epoch 10/20\n",
      "90/90 [==============================] - 231s 3s/step - loss: 0.6637 - accuracy: 0.7617 - val_loss: 4.3859 - val_accuracy: 0.4264\n",
      "Epoch 11/20\n",
      "90/90 [==============================] - 260s 3s/step - loss: 0.6468 - accuracy: 0.7561 - val_loss: 6.6772 - val_accuracy: 0.3401\n",
      "Epoch 12/20\n",
      "90/90 [==============================] - 252s 3s/step - loss: 0.6152 - accuracy: 0.7704 - val_loss: 3.5423 - val_accuracy: 0.3528\n",
      "Epoch 13/20\n",
      "90/90 [==============================] - 245s 3s/step - loss: 0.5926 - accuracy: 0.7826 - val_loss: 4.6255 - val_accuracy: 0.3452\n",
      "Epoch 14/20\n",
      "90/90 [==============================] - 239s 3s/step - loss: 0.5329 - accuracy: 0.7986 - val_loss: 4.3250 - val_accuracy: 0.3655\n",
      "Epoch 15/20\n",
      "90/90 [==============================] - 236s 3s/step - loss: 0.5117 - accuracy: 0.8146 - val_loss: 5.2662 - val_accuracy: 0.3350\n",
      "Epoch 16/20\n",
      "90/90 [==============================] - 240s 3s/step - loss: 0.4880 - accuracy: 0.8202 - val_loss: 4.6320 - val_accuracy: 0.3832\n",
      "Epoch 17/20\n",
      "90/90 [==============================] - 226s 3s/step - loss: 0.4933 - accuracy: 0.8261 - val_loss: 6.4365 - val_accuracy: 0.3909\n",
      "Epoch 18/20\n",
      "90/90 [==============================] - 224s 2s/step - loss: 0.5050 - accuracy: 0.8136 - val_loss: 4.2959 - val_accuracy: 0.3376\n",
      "Epoch 19/20\n",
      "90/90 [==============================] - 226s 3s/step - loss: 0.4586 - accuracy: 0.8345 - val_loss: 3.0504 - val_accuracy: 0.4289\n",
      "Epoch 20/20\n",
      "90/90 [==============================] - 220s 2s/step - loss: 0.4487 - accuracy: 0.8373 - val_loss: 4.2531 - val_accuracy: 0.4619\n"
     ]
    }
   ],
   "source": [
    "history = model.fit(train_dataset, epochs=20, validation_data=test_dataset)"
   ]
  },
  {
   "cell_type": "code",
   "execution_count": 13,
   "id": "e8e32341",
   "metadata": {},
   "outputs": [
    {
     "name": "stdout",
     "output_type": "stream",
     "text": [
      "13/13 [==============================] - 7s 370ms/step - loss: 4.2531 - accuracy: 0.4619\n"
     ]
    },
    {
     "data": {
      "text/plain": [
       "[4.253051280975342, 0.46192893385887146]"
      ]
     },
     "execution_count": 13,
     "metadata": {},
     "output_type": "execute_result"
    }
   ],
   "source": [
    "model.evaluate(test_dataset)"
   ]
  },
  {
   "cell_type": "code",
   "execution_count": 14,
   "id": "1e8c9453",
   "metadata": {},
   "outputs": [
    {
     "name": "stdout",
     "output_type": "stream",
     "text": [
      "Model: \"sequential\"\n",
      "_________________________________________________________________\n",
      " Layer (type)                Output Shape              Param #   \n",
      "=================================================================\n",
      " resizing (Resizing)         (None, 128, 128, 3)       0         \n",
      "                                                                 \n",
      " rescaling (Rescaling)       (None, 128, 128, 3)       0         \n",
      "                                                                 \n",
      " random_flip (RandomFlip)    (None, 128, 128, 3)       0         \n",
      "                                                                 \n",
      " random_rotation (RandomRota  (None, 128, 128, 3)      0         \n",
      " tion)                                                           \n",
      "                                                                 \n",
      " conv2d (Conv2D)             (None, 128, 124, 64)      1024      \n",
      "                                                                 \n",
      " conv2d_1 (Conv2D)           (None, 124, 124, 64)      20544     \n",
      "                                                                 \n",
      " activation (Activation)     (None, 124, 124, 64)      0         \n",
      "                                                                 \n",
      " batch_normalization (BatchN  (None, 124, 124, 64)     256       \n",
      " ormalization)                                                   \n",
      "                                                                 \n",
      " max_pooling2d (MaxPooling2D  (None, 62, 62, 64)       0         \n",
      " )                                                               \n",
      "                                                                 \n",
      " dropout (Dropout)           (None, 62, 62, 64)        0         \n",
      "                                                                 \n",
      " conv2d_2 (Conv2D)           (None, 62, 60, 64)        12352     \n",
      "                                                                 \n",
      " conv2d_3 (Conv2D)           (None, 60, 60, 64)        12352     \n",
      "                                                                 \n",
      " activation_1 (Activation)   (None, 60, 60, 64)        0         \n",
      "                                                                 \n",
      " batch_normalization_1 (Batc  (None, 60, 60, 64)       256       \n",
      " hNormalization)                                                 \n",
      "                                                                 \n",
      " max_pooling2d_1 (MaxPooling  (None, 30, 30, 64)       0         \n",
      " 2D)                                                             \n",
      "                                                                 \n",
      " dropout_1 (Dropout)         (None, 30, 30, 64)        0         \n",
      "                                                                 \n",
      " conv2d_4 (Conv2D)           (None, 30, 28, 64)        12352     \n",
      "                                                                 \n",
      " conv2d_5 (Conv2D)           (None, 28, 28, 64)        12352     \n",
      "                                                                 \n",
      " activation_2 (Activation)   (None, 28, 28, 64)        0         \n",
      "                                                                 \n",
      " batch_normalization_2 (Batc  (None, 28, 28, 64)       256       \n",
      " hNormalization)                                                 \n",
      "                                                                 \n",
      " max_pooling2d_2 (MaxPooling  (None, 14, 14, 64)       0         \n",
      " 2D)                                                             \n",
      "                                                                 \n",
      " dropout_2 (Dropout)         (None, 14, 14, 64)        0         \n",
      "                                                                 \n",
      " flatten (Flatten)           (None, 12544)             0         \n",
      "                                                                 \n",
      " dense (Dense)               (None, 512)               6423040   \n",
      "                                                                 \n",
      " activation_3 (Activation)   (None, 512)               0         \n",
      "                                                                 \n",
      " dropout_3 (Dropout)         (None, 512)               0         \n",
      "                                                                 \n",
      " dense_1 (Dense)             (None, 512)               262656    \n",
      "                                                                 \n",
      " activation_4 (Activation)   (None, 512)               0         \n",
      "                                                                 \n",
      " dropout_4 (Dropout)         (None, 512)               0         \n",
      "                                                                 \n",
      " dense_2 (Dense)             (None, 4)                 2052      \n",
      "                                                                 \n",
      " activation_5 (Activation)   (None, 4)                 0         \n",
      "                                                                 \n",
      "=================================================================\n",
      "Total params: 6,759,492\n",
      "Trainable params: 6,759,108\n",
      "Non-trainable params: 384\n",
      "_________________________________________________________________\n"
     ]
    }
   ],
   "source": [
    "model.summary()"
   ]
  },
  {
   "cell_type": "code",
   "execution_count": 15,
   "id": "6ff11a43",
   "metadata": {},
   "outputs": [
    {
     "data": {
      "image/png": "[encoded data removed]",
      "text/plain": [
       "<Figure size 864x360 with 2 Axes>"
      ]
     },
     "metadata": {
      "needs_background": "light"
     },
     "output_type": "display_data"
    }
   ],
   "source": [
    "plt.figure(figsize=(12,5))\n",
    "plt.subplot(122)\n",
    "\n",
    "plt.subplot(1,2,1)\n",
    "plt.plot(history.history['accuracy'])\n",
    "plt.plot(history.history['val_accuracy'])\n",
    "plt.legend(['Training', 'Validation'])\n",
    "plt.title('Model accuracy')\n",
    "\n",
    "plt.subplot(1,2,2)\n",
    "plt.plot(history.history['loss'])\n",
    "plt.plot(history.history['val_loss'])\n",
    "plt.legend(['Training', 'Validation'])\n",
    "plt.title('Model loss')\n",
    "\n",
    "plt.show()"
   ]
  },
  {
   "cell_type": "code",
   "execution_count": 16,
   "id": "6be9962f",
   "metadata": {},
   "outputs": [
    {
     "name": "stdout",
     "output_type": "stream",
     "text": [
      "1/1 [==============================] - 2s 2s/step\n",
      "1/1 [==============================] - 1s 690ms/step\n",
      "1/1 [==============================] - 1s 807ms/step\n",
      "1/1 [==============================] - 1s 702ms/step\n",
      "1/1 [==============================] - 0s 475ms/step\n",
      "1/1 [==============================] - 0s 348ms/step\n",
      "1/1 [==============================] - 0s 376ms/step\n",
      "1/1 [==============================] - 0s 432ms/step\n",
      "1/1 [==============================] - 0s 411ms/step\n",
      "1/1 [==============================] - 1s 814ms/step\n",
      "1/1 [==============================] - 0s 413ms/step\n",
      "1/1 [==============================] - 0s 378ms/step\n",
      "1/1 [==============================] - 1s 521ms/step\n"
     ]
    }
   ],
   "source": [
    "true_labels = []\n",
    "predicted_labels = []\n",
    "\n",
    "for x, y in test_dataset:\n",
    "    true_labels.append(y)\n",
    "    predicted_labels.append(model.predict(x))\n",
    "    \n",
    "true_labels = np.concatenate(true_labels, axis=0)\n",
    "predicted_labels = np.concatenate(predicted_labels, axis=0)"
   ]
  },
  {
   "cell_type": "code",
   "execution_count": 17,
   "id": "692a461b",
   "metadata": {},
   "outputs": [],
   "source": [
    "true_labels_list = []\n",
    "predicted_labels_list = [] \n",
    "\n",
    "for (tr_lbl, pr_lbl) in zip (true_labels, predicted_labels):\n",
    "    true_labels_list.append(np.argmax(tr_lbl))\n",
    "    predicted_labels_list.append(np.argmax(pr_lbl))\n",
    "    \n",
    "true_labels_list = np.array(true_labels_list)\n",
    "predicted_labels_list = np.array(predicted_labels_list)\n",
    "\n",
    "cf_matrix = confusion_matrix(y_true=true_labels_list, y_pred=predicted_labels_list, normalize='pred')"
   ]
  },
  {
   "cell_type": "code",
   "execution_count": 18,
   "id": "8c806d84",
   "metadata": {},
   "outputs": [
    {
     "data": {
      "image/png": "[encoded data removed]",
      "text/plain": [
       "<Figure size 504x360 with 2 Axes>"
      ]
     },
     "metadata": {
      "needs_background": "light"
     },
     "output_type": "display_data"
    }
   ],
   "source": [
    "labels = ['No tumor', 'Glioma', 'Meningioma', 'Pituitary']\n",
    "\n",
    "plt.figure(figsize=(7,5))\n",
    "\n",
    "sns.heatmap(cf_matrix, annot=True, cmap='Blues', fmt='.3f')\n",
    "\n",
    "plt.ylabel('True classes')\n",
    "yticks, _ = plt.yticks()\n",
    "plt.yticks(ticks=yticks, labels=labels, rotation=45)\n",
    "\n",
    "plt.xlabel('Predicted classes')\n",
    "xticks, _ = plt.xticks()\n",
    "plt.xticks(ticks=xticks, labels=labels, rotation=45)\n",
    "\n",
    "plt.title('Confusion Matrixn\\nNormalized over predictions')\n",
    "\n",
    "\n",
    "plt.show()"
   ]
  },
  {
   "cell_type": "code",
   "execution_count": null,
   "id": "044d2562",
   "metadata": {},
   "outputs": [],
   "source": []
  }
 ],
 "metadata": {
  "kernelspec": {
   "display_name": "Python 3 (ipykernel)",
   "language": "python",
   "name": "python3"
  },
  "language_info": {
   "codemirror_mode": {
    "name": "ipython",
    "version": 3
   },
   "file_extension": ".py",
   "mimetype": "text/x-python",
   "name": "python",
   "nbconvert_exporter": "python",
   "pygments_lexer": "ipython3",
   "version": "3.9.5"
  }
 },
 "nbformat": 4,
 "nbformat_minor": 5
}
