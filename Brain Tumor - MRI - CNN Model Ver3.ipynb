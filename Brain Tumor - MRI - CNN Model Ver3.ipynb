{
 "cells": [
  {
   "cell_type": "markdown",
   "id": "01e69060",
   "metadata": {},
   "source": [
    "## Version 2\n",
    "\n",
    "### 3 Convolutions / RELU / 0.2 Dropouts / 20 epochs"
   ]
  },
  {
   "cell_type": "code",
   "execution_count": 1,
   "id": "6f3fd869",
   "metadata": {},
   "outputs": [],
   "source": [
    "import numpy as np\n",
    "import matplotlib.pyplot as plt\n",
    "import seaborn as sns\n",
    "import tensorflow as tf\n",
    "from tensorflow.keras import layers\n",
    "from tensorflow.keras.preprocessing.image import load_img\n",
    "from tensorflow.keras.utils import to_categorical, image_dataset_from_directory\n",
    "from sklearn.metrics import confusion_matrix\n",
    "\n",
    "import warnings\n",
    "warnings.filterwarnings('ignore')"
   ]
  },
  {
   "cell_type": "code",
   "execution_count": 2,
   "id": "e47fc859",
   "metadata": {},
   "outputs": [
    {
     "name": "stdout",
     "output_type": "stream",
     "text": [
      "Found 2870 files belonging to 4 classes.\n",
      "Found 394 files belonging to 4 classes.\n"
     ]
    }
   ],
   "source": [
    "train_path = 'Kaggle_MRI_Tumor/Training'\n",
    "test_path = 'Kaggle_MRI_Tumor/Testing'\n",
    "\n",
    "classes = ['glioma_tumor', 'meningioma_tumor', 'no_tumor', 'pituitary_tumor']\n",
    "\n",
    "train_dataset = image_dataset_from_directory(directory=train_path,\n",
    "                                             label_mode='categorical',\n",
    "                                             class_names=classes)\n",
    "test_dataset = image_dataset_from_directory(directory=test_path,\n",
    "                                            label_mode='categorical',\n",
    "                                            class_names=classes)"
   ]
  },
  {
   "cell_type": "code",
   "execution_count": 3,
   "id": "aca2e8b2",
   "metadata": {},
   "outputs": [],
   "source": [
    "model = tf.keras.models.Sequential()\n",
    "\n",
    "# Preprocessing \n",
    "model.add(layers.Resizing(height=128, width=128, interpolation='bilinear'))\n",
    "model.add(layers.Rescaling(scale=1./255))\n",
    "\n",
    "# Data Augmentation\n",
    "model.add(layers.RandomFlip(mode='horizontal_and_vertical'))\n",
    "model.add(layers.RandomRotation(factor=.2))"
   ]
  },
  {
   "cell_type": "code",
   "execution_count": 5,
   "id": "57922280",
   "metadata": {},
   "outputs": [],
   "source": [
    "# First Convolution\n",
    "model.add(layers.Conv2D(filters=64, kernel_size=(1,5)))\n",
    "model.add(layers.Conv2D(filters=64, kernel_size=(5,1)))\n",
    "model.add(layers.Activation('relu'))\n",
    "model.add(layers.BatchNormalization())\n",
    "model.add(layers.MaxPool2D(pool_size=(2,2)))\n",
    "model.add(layers.Dropout(.2))"
   ]
  },
  {
   "cell_type": "code",
   "execution_count": 6,
   "id": "8537ffbb",
   "metadata": {},
   "outputs": [],
   "source": [
    "# Second Convolution\n",
    "model.add(layers.Conv2D(filters=64, kernel_size=(1,3)))\n",
    "model.add(layers.Conv2D(filters=64, kernel_size=(3,1)))\n",
    "model.add(layers.Activation('relu'))\n",
    "model.add(layers.BatchNormalization())\n",
    "model.add(layers.MaxPool2D(pool_size=(2,2)))\n",
    "model.add(layers.Dropout(.2))"
   ]
  },
  {
   "cell_type": "code",
   "execution_count": 7,
   "id": "5dd2620d",
   "metadata": {},
   "outputs": [],
   "source": [
    "# Third Convolution\n",
    "model.add(layers.Conv2D(filters=64, kernel_size=(1,3)))\n",
    "model.add(layers.Conv2D(filters=64, kernel_size=(3,1)))\n",
    "model.add(layers.Activation('relu'))\n",
    "model.add(layers.BatchNormalization())\n",
    "model.add(layers.MaxPool2D(pool_size=(2,2)))\n",
    "model.add(layers.Dropout(.2))"
   ]
  },
  {
   "cell_type": "code",
   "execution_count": 8,
   "id": "ef706a0c",
   "metadata": {},
   "outputs": [],
   "source": [
    "# Feed forward\n",
    "model.add(layers.Flatten())\n",
    "model.add(layers.Dense(512))\n",
    "model.add(layers.Activation('relu'))\n",
    "model.add(layers.Dropout(.2))\n",
    "model.add(layers.Dense(512))\n",
    "model.add(layers.Activation('relu'))\n",
    "model.add(layers.Dropout(.2))\n",
    "model.add(layers.Dense(4))\n",
    "model.add(layers.Activation('softmax'))"
   ]
  },
  {
   "cell_type": "code",
   "execution_count": null,
   "id": "f877cc37",
   "metadata": {},
   "outputs": [],
   "source": [
    "help(model.compile)"
   ]
  },
  {
   "cell_type": "code",
   "execution_count": 11,
   "id": "1affb7c6",
   "metadata": {},
   "outputs": [
    {
     "name": "stdout",
     "output_type": "stream",
     "text": [
      "Epoch 1/20\n",
      "WARNING:tensorflow:Using a while_loop for converting RngReadAndSkip cause there is no registered converter for this op.\n",
      "WARNING:tensorflow:Using a while_loop for converting Bitcast cause there is no registered converter for this op.\n",
      "WARNING:tensorflow:Using a while_loop for converting Bitcast cause there is no registered converter for this op.\n",
      "WARNING:tensorflow:Using a while_loop for converting StatelessRandomUniformV2 cause there is no registered converter for this op.\n",
      "WARNING:tensorflow:Using a while_loop for converting ImageProjectiveTransformV3 cause there is no registered converter for this op.\n",
      "WARNING:tensorflow:Using a while_loop for converting RngReadAndSkip cause there is no registered converter for this op.\n",
      "WARNING:tensorflow:Using a while_loop for converting Bitcast cause there is no registered converter for this op.\n",
      "WARNING:tensorflow:Using a while_loop for converting Bitcast cause there is no registered converter for this op.\n",
      "WARNING:tensorflow:Using a while_loop for converting StatelessRandomUniformV2 cause there is no registered converter for this op.\n",
      "WARNING:tensorflow:Using a while_loop for converting ImageProjectiveTransformV3 cause there is no registered converter for this op.\n",
      "90/90 [==============================] - 480s 5s/step - loss: 3.2009 - accuracy: 0.5341 - val_loss: 3.3517 - val_accuracy: 0.2310\n",
      "Epoch 2/20\n",
      "90/90 [==============================] - 433s 5s/step - loss: 1.2135 - accuracy: 0.5864 - val_loss: 4.5934 - val_accuracy: 0.2437\n",
      "Epoch 3/20\n",
      "90/90 [==============================] - 492s 5s/step - loss: 1.0206 - accuracy: 0.6258 - val_loss: 2.8413 - val_accuracy: 0.4264\n",
      "Epoch 4/20\n",
      "90/90 [==============================] - 504s 6s/step - loss: 0.8933 - accuracy: 0.6864 - val_loss: 3.8256 - val_accuracy: 0.2741\n",
      "Epoch 5/20\n",
      "90/90 [==============================] - 519s 6s/step - loss: 0.8318 - accuracy: 0.6815 - val_loss: 2.0573 - val_accuracy: 0.4721\n",
      "Epoch 6/20\n",
      "90/90 [==============================] - 558s 6s/step - loss: 0.7531 - accuracy: 0.7125 - val_loss: 2.6113 - val_accuracy: 0.4518\n",
      "Epoch 7/20\n",
      "90/90 [==============================] - 571s 6s/step - loss: 0.6754 - accuracy: 0.7453 - val_loss: 4.0029 - val_accuracy: 0.4289\n",
      "Epoch 8/20\n",
      "90/90 [==============================] - 293s 3s/step - loss: 0.6561 - accuracy: 0.7526 - val_loss: 3.2439 - val_accuracy: 0.4162\n",
      "Epoch 9/20\n",
      "90/90 [==============================] - 265s 3s/step - loss: 0.5590 - accuracy: 0.7826 - val_loss: 2.5928 - val_accuracy: 0.4797\n",
      "Epoch 10/20\n",
      "90/90 [==============================] - 237s 3s/step - loss: 0.5221 - accuracy: 0.8087 - val_loss: 3.9633 - val_accuracy: 0.3807\n",
      "Epoch 11/20\n",
      "90/90 [==============================] - 277s 3s/step - loss: 0.4953 - accuracy: 0.8223 - val_loss: 3.3813 - val_accuracy: 0.4898\n",
      "Epoch 12/20\n",
      "90/90 [==============================] - 252s 3s/step - loss: 0.4801 - accuracy: 0.8261 - val_loss: 3.7558 - val_accuracy: 0.3985\n",
      "Epoch 13/20\n",
      "90/90 [==============================] - 231s 3s/step - loss: 0.4411 - accuracy: 0.8463 - val_loss: 3.2471 - val_accuracy: 0.4822\n",
      "Epoch 14/20\n",
      "90/90 [==============================] - 243s 3s/step - loss: 0.4362 - accuracy: 0.8498 - val_loss: 3.4205 - val_accuracy: 0.4340\n",
      "Epoch 15/20\n",
      "90/90 [==============================] - 226s 3s/step - loss: 0.4162 - accuracy: 0.8502 - val_loss: 3.0472 - val_accuracy: 0.4924\n",
      "Epoch 16/20\n",
      "90/90 [==============================] - 223s 2s/step - loss: 0.3872 - accuracy: 0.8603 - val_loss: 3.3006 - val_accuracy: 0.5635\n",
      "Epoch 17/20\n",
      "90/90 [==============================] - 211s 2s/step - loss: 0.3937 - accuracy: 0.8589 - val_loss: 4.0318 - val_accuracy: 0.4543\n",
      "Epoch 18/20\n",
      "90/90 [==============================] - 228s 3s/step - loss: 0.4080 - accuracy: 0.8697 - val_loss: 3.1925 - val_accuracy: 0.4061\n",
      "Epoch 19/20\n",
      "90/90 [==============================] - 233s 3s/step - loss: 0.3598 - accuracy: 0.8735 - val_loss: 5.2759 - val_accuracy: 0.4619\n",
      "Epoch 20/20\n",
      "90/90 [==============================] - 243s 3s/step - loss: 0.3720 - accuracy: 0.8774 - val_loss: 2.4976 - val_accuracy: 0.4975\n"
     ]
    }
   ],
   "source": [
    "optimizer = tf.keras.optimizers.RMSprop(learning_rate=0.001, decay=1e-6)\n",
    "model.compile(optimizer=optimizer, loss='categorical_crossentropy', metrics=['accuracy'])\n",
    "\n",
    "history = model.fit(train_dataset, epochs=20, validation_data=test_dataset)"
   ]
  },
  {
   "cell_type": "code",
   "execution_count": 12,
   "id": "b0af097c",
   "metadata": {},
   "outputs": [
    {
     "name": "stdout",
     "output_type": "stream",
     "text": [
      "13/13 [==============================] - 6s 433ms/step - loss: 2.4976 - accuracy: 0.4975\n"
     ]
    },
    {
     "data": {
      "text/plain": [
       "[2.4975664615631104, 0.4974619150161743]"
      ]
     },
     "execution_count": 12,
     "metadata": {},
     "output_type": "execute_result"
    }
   ],
   "source": [
    "model.evaluate(test_dataset)"
   ]
  },
  {
   "cell_type": "code",
   "execution_count": 13,
   "id": "927ca504",
   "metadata": {},
   "outputs": [
    {
     "name": "stdout",
     "output_type": "stream",
     "text": [
      "Model: \"sequential\"\n",
      "_________________________________________________________________\n",
      " Layer (type)                Output Shape              Param #   \n",
      "=================================================================\n",
      " resizing (Resizing)         (None, 128, 128, 3)       0         \n",
      "                                                                 \n",
      " rescaling (Rescaling)       (None, 128, 128, 3)       0         \n",
      "                                                                 \n",
      " random_flip (RandomFlip)    (None, 128, 128, 3)       0         \n",
      "                                                                 \n",
      " random_rotation (RandomRota  (None, 128, 128, 3)      0         \n",
      " tion)                                                           \n",
      "                                                                 \n",
      " conv2d (Conv2D)             (None, 128, 124, 64)      1024      \n",
      "                                                                 \n",
      " conv2d_1 (Conv2D)           (None, 124, 124, 64)      20544     \n",
      "                                                                 \n",
      " activation (Activation)     (None, 124, 124, 64)      0         \n",
      "                                                                 \n",
      " batch_normalization (BatchN  (None, 124, 124, 64)     256       \n",
      " ormalization)                                                   \n",
      "                                                                 \n",
      " max_pooling2d (MaxPooling2D  (None, 62, 62, 64)       0         \n",
      " )                                                               \n",
      "                                                                 \n",
      " dropout (Dropout)           (None, 62, 62, 64)        0         \n",
      "                                                                 \n",
      " conv2d_2 (Conv2D)           (None, 62, 60, 64)        12352     \n",
      "                                                                 \n",
      " conv2d_3 (Conv2D)           (None, 60, 60, 64)        12352     \n",
      "                                                                 \n",
      " activation_1 (Activation)   (None, 60, 60, 64)        0         \n",
      "                                                                 \n",
      " batch_normalization_1 (Batc  (None, 60, 60, 64)       256       \n",
      " hNormalization)                                                 \n",
      "                                                                 \n",
      " max_pooling2d_1 (MaxPooling  (None, 30, 30, 64)       0         \n",
      " 2D)                                                             \n",
      "                                                                 \n",
      " dropout_1 (Dropout)         (None, 30, 30, 64)        0         \n",
      "                                                                 \n",
      " conv2d_4 (Conv2D)           (None, 30, 28, 64)        12352     \n",
      "                                                                 \n",
      " conv2d_5 (Conv2D)           (None, 28, 28, 64)        12352     \n",
      "                                                                 \n",
      " activation_2 (Activation)   (None, 28, 28, 64)        0         \n",
      "                                                                 \n",
      " batch_normalization_2 (Batc  (None, 28, 28, 64)       256       \n",
      " hNormalization)                                                 \n",
      "                                                                 \n",
      " max_pooling2d_2 (MaxPooling  (None, 14, 14, 64)       0         \n",
      " 2D)                                                             \n",
      "                                                                 \n",
      " dropout_2 (Dropout)         (None, 14, 14, 64)        0         \n",
      "                                                                 \n",
      " flatten (Flatten)           (None, 12544)             0         \n",
      "                                                                 \n",
      " dense (Dense)               (None, 512)               6423040   \n",
      "                                                                 \n",
      " activation_3 (Activation)   (None, 512)               0         \n",
      "                                                                 \n",
      " dropout_3 (Dropout)         (None, 512)               0         \n",
      "                                                                 \n",
      " dense_1 (Dense)             (None, 512)               262656    \n",
      "                                                                 \n",
      " activation_4 (Activation)   (None, 512)               0         \n",
      "                                                                 \n",
      " dropout_4 (Dropout)         (None, 512)               0         \n",
      "                                                                 \n",
      " dense_2 (Dense)             (None, 4)                 2052      \n",
      "                                                                 \n",
      " activation_5 (Activation)   (None, 4)                 0         \n",
      "                                                                 \n",
      "=================================================================\n",
      "Total params: 6,759,492\n",
      "Trainable params: 6,759,108\n",
      "Non-trainable params: 384\n",
      "_________________________________________________________________\n"
     ]
    }
   ],
   "source": [
    "model.summary()"
   ]
  },
  {
   "cell_type": "code",
   "execution_count": null,
   "id": "53ee5daf",
   "metadata": {},
   "outputs": [],
   "source": []
  }
 ],
 "metadata": {
  "kernelspec": {
   "display_name": "Python 3 (ipykernel)",
   "language": "python",
   "name": "python3"
  },
  "language_info": {
   "codemirror_mode": {
    "name": "ipython",
    "version": 3
   },
   "file_extension": ".py",
   "mimetype": "text/x-python",
   "name": "python",
   "nbconvert_exporter": "python",
   "pygments_lexer": "ipython3",
   "version": "3.9.5"
  }
 },
 "nbformat": 4,
 "nbformat_minor": 5
}
